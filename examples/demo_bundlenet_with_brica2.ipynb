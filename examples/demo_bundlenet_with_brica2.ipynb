{
 "cells": [
  {
   "cell_type": "code",
   "execution_count": 1,
   "metadata": {},
   "outputs": [],
   "source": [
    "from operator import add\n",
    "from functools import reduce\n",
    "import numpy as np\n",
    "\n",
    "import brica\n",
    "from brica import Component, VirtualTimeScheduler, Timing\n",
    "from matchernet import state\n",
    "import copy"
   ]
  },
  {
   "cell_type": "markdown",
   "metadata": {},
   "source": [
    "## Bundle"
   ]
  },
  {
   "cell_type": "code",
   "execution_count": 2,
   "metadata": {},
   "outputs": [],
   "source": [
    "class NullBundle(object):\n",
    "    def __init__(self, name, n, mu):\n",
    "        super(NullBundle, self).__init__()\n",
    "        self.name = name\n",
    "        self.state = state.StateMuSigma(n)\n",
    "        self.state.data[\"mu\"] = mu\n",
    "        self.component = Component(self)\n",
    "        self.component.make_out_port(\"state\")\n",
    "\n",
    "    def __call__(self, inputs):\n",
    "        for key in inputs:\n",
    "            if inputs[key] is not None:\n",
    "                self.state.data[\"mu\"] += inputs[key].data[\"mu\"]\n",
    "        print(\"{} state: {}\".format(self.name, self.state.data[\"mu\"]))\n",
    "        return {\"state\": self.state}"
   ]
  },
  {
   "cell_type": "markdown",
   "metadata": {},
   "source": [
    "## Matcher"
   ]
  },
  {
   "cell_type": "code",
   "execution_count": 3,
   "metadata": {},
   "outputs": [],
   "source": [
    "class NullMatcher(object):\n",
    "    def __init__(self, name, *bundles):\n",
    "        super(NullMatcher, self).__init__()\n",
    "        self.name = name\n",
    "        self.result_state = {}\n",
    "        \n",
    "        for bundle in bundles:\n",
    "            self.result_state[bundle.name] = copy.deepcopy(bundle.state)\n",
    "        \n",
    "        self.component = Component(self)\n",
    "        for bundle in bundles:\n",
    "            self.component.make_in_port(bundle.name)\n",
    "            self.component.make_out_port(bundle.name)\n",
    "\n",
    "            bundle.component.make_in_port(name)\n",
    "\n",
    "            brica.connect(bundle.component, \"state\", self.component, bundle.name)\n",
    "            brica.connect(self.component, bundle.name, bundle.component, name)\n",
    "\n",
    "    def __call__(self, inputs):\n",
    "        mu = {}\n",
    "        for key in inputs:\n",
    "            if inputs[key] is not None:\n",
    "                mu[key] = inputs[key].data[\"mu\"]\n",
    "        mean = reduce(add, mu.values()) / len(inputs)\n",
    "        for key in inputs:\n",
    "            if inputs[key] is not None:\n",
    "                self.result_state[key].data[\"mu\"] = (mean - mu[key]) * 0.1\n",
    "        return self.result_state"
   ]
  },
  {
   "cell_type": "markdown",
   "metadata": {},
   "source": [
    "Look at the changes in state when using brica in several steps."
   ]
  },
  {
   "cell_type": "code",
   "execution_count": 4,
   "metadata": {},
   "outputs": [
    {
     "name": "stdout",
     "output_type": "stream",
     "text": [
      "Bundle2 state: [  0.   0.   0. 100.]\n",
      "Bundle0 state: [0. 1. 0. 0.]\n",
      "Bundle1 state: [ 0.  0. 10.  0.]\n",
      "Bundle1 state: [0.   0.05 9.   5.  ]\n",
      "Bundle0 state: [0.  0.9 0.5 5. ]\n",
      "Bundle2 state: [0.e+00 5.e-02 5.e-01 9.e+01]\n"
     ]
    }
   ],
   "source": [
    "n = 4\n",
    "\n",
    "b0 = NullBundle(\"Bundle0\", n, mu=np.array([0, 1, 0, 0]).astype(np.float32))\n",
    "b1 = NullBundle(\"Bundle1\", n, mu=np.array([0, 0, 10, 0]).astype(np.float32))\n",
    "b2 = NullBundle(\"Bundle2\", n, mu=np.array([0, 0, 0, 100]).astype(np.float32))\n",
    "\n",
    "m01 = NullMatcher(\"Matcher01\", b0, b1)\n",
    "m02 = NullMatcher(\"Matcher02\", b0, b2)\n",
    "m12 = NullMatcher(\"Matcher12\", b1, b2)\n",
    "\n",
    "s = VirtualTimeScheduler()\n",
    "bt = Timing(0, 1, 1)\n",
    "bm = Timing(1, 1, 1)\n",
    "\n",
    "s.add_component(b0.component, bt)\n",
    "s.add_component(b1.component, bt)\n",
    "s.add_component(b2.component, bt)\n",
    "\n",
    "s.add_component(m01.component, bm)\n",
    "s.add_component(m02.component, bm)\n",
    "s.add_component(m12.component, bm)\n",
    "\n",
    "s.step()\n",
    "s.step()\n",
    "s.step()\n",
    "s.step()"
   ]
  },
  {
   "cell_type": "code",
   "execution_count": null,
   "metadata": {},
   "outputs": [],
   "source": []
  }
 ],
 "metadata": {
  "kernelspec": {
   "display_name": "Python 3",
   "language": "python",
   "name": "python3"
  },
  "language_info": {
   "codemirror_mode": {
    "name": "ipython",
    "version": 3
   },
   "file_extension": ".py",
   "mimetype": "text/x-python",
   "name": "python",
   "nbconvert_exporter": "python",
   "pygments_lexer": "ipython3",
   "version": "3.6.5"
  }
 },
 "nbformat": 4,
 "nbformat_minor": 2
}
