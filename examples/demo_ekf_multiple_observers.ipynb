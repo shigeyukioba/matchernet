{
 "cells": [
  {
   "cell_type": "code",
   "execution_count": 14,
   "metadata": {},
   "outputs": [],
   "source": [
    "import sys\n",
    "import time\n",
    "import numpy as np\n",
    "import matplotlib.pyplot as plt\n",
    "from brica import Component, VirtualTimeScheduler, Timing\n",
    "\n",
    "from matchernet.ekf import BundleEKFContinuousTime, MatcherEKF\n",
    "from matchernet import fn\n",
    "from matchernet.observer import Observer\n",
    "from matchernet.state_space_model_2d import StateSpaceModel2Dim\n",
    "from matchernet import utils\n",
    "from matchernet.utils import print_flush"
   ]
  },
  {
   "cell_type": "markdown",
   "metadata": {},
   "source": [
    "## Data"
   ]
  },
  {
   "cell_type": "markdown",
   "metadata": {},
   "source": [
    "A two-dimensional state space model is simulated to generate data."
   ]
  },
  {
   "cell_type": "code",
   "execution_count": 15,
   "metadata": {},
   "outputs": [],
   "source": [
    "def prepare_data(dt, num_steps, num_observers):\n",
    "    y_recs = []\n",
    "    for i in range(num_observers):\n",
    "        print_flush(\"Generating simulation sequences {}/{}\".format(i, num_observers))\n",
    "        sm = StateSpaceModel2Dim(\n",
    "            n_dim=2,\n",
    "            A=A0,\n",
    "            g=fn.LinearFn(utils.zeros(2)),\n",
    "            sigma_w=0.1,\n",
    "            sigma_z=0.1,\n",
    "            x=mu0[0],\n",
    "            y=utils.zeros((1, 2))\n",
    "        )\n",
    "        sm.dt = dt\n",
    "        (x_rec, y_rec) = sm.simulation(num_steps, dt)\n",
    "        y_recs.append(y_rec)\n",
    "    return y_recs"
   ]
  },
  {
   "cell_type": "markdown",
   "metadata": {},
   "source": [
    "Randomly missing data and estimating the part."
   ]
  },
  {
   "cell_type": "code",
   "execution_count": 16,
   "metadata": {},
   "outputs": [],
   "source": [
    "def include_random_missing(y, num_steps):\n",
    "    num_channels = len(y)\n",
    "    for c in range(num_channels):\n",
    "        y[c] = miss_hmm(y[c])\n",
    "        plt.subplot(num_channels, 1, c + 1)\n",
    "        for i in range(num_steps):\n",
    "            if np.isnan(y[c][i, 0]):\n",
    "                plt.plot([i, i], [-1, 1], '-', color='gray', linewidth='3')\n",
    "        plt.plot(y[c], '.-')\n",
    "    return y"
   ]
  },
  {
   "cell_type": "code",
   "execution_count": 17,
   "metadata": {},
   "outputs": [],
   "source": [
    "def miss_hmm(y):\n",
    "    num_steps, dim = y.shape\n",
    "    n = 8\n",
    "    r = np.convolve(np.random.rand(num_steps) - 0.5, np.ones(n), 'same')\n",
    "    y[:, 0] = np.where(r > 0.5, y[:, 0], np.nan)\n",
    "    y[:, 1] = np.where(r > 0.5, y[:, 1], np.nan)\n",
    "    return y"
   ]
  },
  {
   "cell_type": "markdown",
   "metadata": {},
   "source": [
    "## Model"
   ]
  },
  {
   "cell_type": "markdown",
   "metadata": {},
   "source": [
    "Demonstrates the case where there are multiple observers."
   ]
  },
  {
   "cell_type": "code",
   "execution_count": 18,
   "metadata": {},
   "outputs": [],
   "source": [
    "def ekf_test_multiple_observer(dt, numSteps, num_observers, yrecs):\n",
    "    \"\"\"\n",
    "    Run a matchernet of the following structure\n",
    "    b0 --- m01 --- b1\n",
    "       --- m02 --- b2\n",
    "       --- m03 --- b3\n",
    "    where b1, b2, and b3 are Observers\n",
    "    \"\"\"\n",
    "    \n",
    "    f = fn.LinearFn(A0 * 0.5)\n",
    "    Sigma0 = 2 * ey2\n",
    "    Q = ey2\n",
    "    mu1 = np.array([0, 2.0], dtype=np.float32)\n",
    "    b0 = BundleEKFContinuousTime(\"b0\", dt, f, Q, mu1, Sigma0)    \n",
    "\n",
    "    bp = []\n",
    "    for i in range(num_observers):\n",
    "        bpname = \"bp{}\".format(i)\n",
    "        bptmp = Observer(bpname, yrecs[i])\n",
    "        bptmp.obs_noise_covariance = 5.0 * ey2\n",
    "        bp.append(bptmp)\n",
    "\n",
    "    # bp[0].obs_noise_covariance = 4*ey2\n",
    "    # bp[1].obs_noise_covariance = 4*ey2\n",
    "\n",
    "    g0 = fn.LinearFn(np.eye(2, dtype=np.float32))\n",
    "    g1 = fn.LinearFn(np.eye(2, dtype=np.float32))    \n",
    "    \n",
    "    mp = []\n",
    "    for i in range(num_observers):\n",
    "        mpname = \"mp0{}\".format(i)\n",
    "        mptmp = MatcherEKF(mpname, b0, bp[i], g0, g1)\n",
    "        mp.append(mptmp)\n",
    "\n",
    "    s = VirtualTimeScheduler()\n",
    "\n",
    "    bt = Timing(0, 1, 1)\n",
    "    bm = Timing(1, 1, 1)\n",
    "\n",
    "    s.add_component(b0.component, bt)\n",
    "    for i in range(num_observers):\n",
    "        s.add_component(bp[i].component, bt)\n",
    "        s.add_component(mp[i].component, bm)\n",
    "\n",
    "    for i in range(numSteps):\n",
    "        print_flush(\"Step {}/{} with brica\".format(i, numSteps))\n",
    "        s.step()"
   ]
  },
  {
   "cell_type": "markdown",
   "metadata": {},
   "source": [
    "## Experiment"
   ]
  },
  {
   "cell_type": "code",
   "execution_count": 19,
   "metadata": {},
   "outputs": [
    {
     "name": "stdout",
     "output_type": "stream",
     "text": [
      "Generating simulation sequences 4/5"
     ]
    },
    {
     "data": {
      "image/png": "[encoded data removed]",
      "text/plain": [
       "<Figure size 432x288 with 5 Axes>"
      ]
     },
     "metadata": {},
     "output_type": "display_data"
    },
    {
     "name": "stdout",
     "output_type": "stream",
     "text": [
      "Step 199/200 with brica"
     ]
    },
    {
     "data": {
      "text/plain": [
       "<Figure size 432x288 with 0 Axes>"
      ]
     },
     "metadata": {},
     "output_type": "display_data"
    }
   ],
   "source": [
    "mu0 = np.array([0, 1.0], dtype=np.float32)\n",
    "A0 = np.array([[-0.1, 2],[-2, -0.1]], dtype=np.float32)\n",
    "ey2 = np.eye(2, dtype=np.float32)\n",
    "dt = 0.02\n",
    "num_steps = 200\n",
    "num_observers = 5\n",
    "\n",
    "y_recs = prepare_data(dt, num_steps, num_observers)\n",
    "plt.figure(1)\n",
    "y_recs = include_random_missing(y_recs, num_steps)\n",
    "plt.pause(0.5)\n",
    "\n",
    "plt.figure(2)\n",
    "start = time.time()\n",
    "ekf_test_multiple_observer(dt, num_steps, num_observers, y_recs)\n",
    "elapsed_time = time.time() - start"
   ]
  },
  {
   "cell_type": "code",
   "execution_count": null,
   "metadata": {},
   "outputs": [],
   "source": []
  }
 ],
 "metadata": {
  "kernelspec": {
   "display_name": "Python 3",
   "language": "python",
   "name": "python3"
  },
  "language_info": {
   "codemirror_mode": {
    "name": "ipython",
    "version": 3
   },
   "file_extension": ".py",
   "mimetype": "text/x-python",
   "name": "python",
   "nbconvert_exporter": "python",
   "pygments_lexer": "ipython3",
   "version": "3.6.5"
  }
 },
 "nbformat": 4,
 "nbformat_minor": 2
}
