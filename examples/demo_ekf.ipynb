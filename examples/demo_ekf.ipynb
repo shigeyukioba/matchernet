{
 "cells": [
  {
   "cell_type": "code",
   "execution_count": 1,
   "metadata": {},
   "outputs": [],
   "source": [
    "import numpy as np\n",
    "import matplotlib.pyplot as plt\n",
    "from brica import Component, VirtualTimeScheduler, Timing\n",
    "\n",
    "from matchernet.ekf import BundleEKFContinuousTime, MatcherEKF\n",
    "from matchernet import fn\n",
    "from matchernet import observer\n",
    "from matchernet.state_space_model_2d import StateSpaceModel2Dim\n",
    "from matchernet import utils\n",
    "from matchernet.utils import print_flush"
   ]
  },
  {
   "cell_type": "code",
   "execution_count": 2,
   "metadata": {},
   "outputs": [],
   "source": [
    "_with_brica = True"
   ]
  },
  {
   "cell_type": "markdown",
   "metadata": {},
   "source": [
    "## Visualize"
   ]
  },
  {
   "cell_type": "markdown",
   "metadata": {},
   "source": [
    "Visualize $ \\ mu, \\ Sigma, timestamp $ of bundle.\n",
    "\n",
    "- $\\mu$ trajectory\n",
    "- X-axis decomposition\n",
    "-  Y-axis decomposition"
   ]
  },
  {
   "cell_type": "code",
   "execution_count": 3,
   "metadata": {},
   "outputs": [],
   "source": [
    "def visualize_bundle_rec(b, y_rec=None):\n",
    "    mu_rec = b.record[\"mu\"]\n",
    "    sigma_rec = b.record[\"diagSigma\"]\n",
    "    time_stamp = b.record[\"time_stamp\"]\n",
    "    n_steps = mu_rec.shape[0]\n",
    "\n",
    "    plt.subplot(221)\n",
    "    plt.plot(mu_rec[:, 0], mu_rec[:, 1])\n",
    "    plt.xlabel(\"X\")\n",
    "    plt.ylabel(\"Y\")\n",
    "    plt.title(\"Trajectory\")\n",
    "\n",
    "    plt.subplot(222)\n",
    "    yd = mu_rec[:, 0] - sigma_rec[:, 0]\n",
    "    yu = mu_rec[:, 0] + sigma_rec[:, 0]\n",
    "    plt.fill_between(time_stamp, yd, yu, facecolor='y', alpha=0.5)\n",
    "    plt.plot(time_stamp, mu_rec[:, 0])\n",
    "    plt.ylabel(\"X\")\n",
    "    plt.xlabel(\"time\")\n",
    "\n",
    "    plt.subplot(224)\n",
    "    yd = mu_rec[:, 1] - sigma_rec[:, 1]\n",
    "    yu = mu_rec[:, 1] + sigma_rec[:, 1]\n",
    "    plt.fill_between(time_stamp, yd, yu, facecolor='y', alpha=0.5)\n",
    "    plt.plot(time_stamp, mu_rec[:, 1])\n",
    "    plt.ylabel(\"Y\")\n",
    "    plt.xlabel(\"time\")\n",
    "\n",
    "    if y_rec is None:\n",
    "        return\n",
    "    else:\n",
    "        plt.subplot(221)\n",
    "        plt.scatter(y_rec[:, 0], y_rec[:, 1], s=2)\n",
    "        plt.subplot(222)\n",
    "        plt.scatter(time_stamp, y_rec[:, 0], s=2)\n",
    "        plt.subplot(224)\n",
    "        plt.scatter(time_stamp, y_rec[:, 1], s=2)"
   ]
  },
  {
   "cell_type": "markdown",
   "metadata": {},
   "source": [
    "## State space model"
   ]
  },
  {
   "cell_type": "markdown",
   "metadata": {},
   "source": [
    "Under a sufficiently small time step $\\Delta t$, the above state-space model is discretized and linearized as follows:\n",
    "\n",
    "$$\n",
    "X_ {t + \\Delta t} = F_t x_t + z_t, \\\\\n",
    "Y_{t} = C_t x_t + w_t\n",
    "$$\n",
    "\n",
    "$ M_X, M_Y$ are the dimensions of the state variables and observed variables, respectively. Where $F_t = I + \\Delta t A_t$, \n",
    "$$\n",
    "A_t = \\left. \\frac{\\partial f(x)}{\\partial x}\\right |_{x = x_t}, \\\\\n",
    "C_t = \\left. \\frac{\\partial g(x)}{\\partial x}\\right |_{x = x_t}\n",
    "$$\n",
    "Are Jacobian matrices for dynamics and observation functions, respectively.\n",
    "$z_t \\sim \\mathcal{N}(0, \\Sigma_z)$ and $w_t \\sim \\mathcal{N}(0, \\Sigma_w)$ are system noise and observation noise, respectively. Is assumed."
   ]
  },
  {
   "cell_type": "code",
   "execution_count": 4,
   "metadata": {},
   "outputs": [],
   "source": [
    "mu0 = np.array([0, 1.0], dtype=np.float32)\n",
    "A0 = np.array([[-0.1, 2], [-2, -0.1]], dtype=np.float32)\n",
    "ey2 = np.eye(2, dtype=np.float32)\n",
    "Sigma0 = 1.0 * ey2\n",
    "Q = 1.0 * ey2"
   ]
  },
  {
   "cell_type": "code",
   "execution_count": 5,
   "metadata": {},
   "outputs": [
    {
     "data": {
      "image/png": "[encoded data removed]",
      "text/plain": [
       "<Figure size 432x288 with 1 Axes>"
      ]
     },
     "metadata": {},
     "output_type": "display_data"
    }
   ],
   "source": [
    "dt = 0.02\n",
    "n_steps = 500\n",
    "\n",
    "sm = StateSpaceModel2Dim(\n",
    "    n_dim=2,\n",
    "    A=A0,\n",
    "    g=fn.LinearFn(utils.zeros(2)),\n",
    "    sigma_w=0.1,\n",
    "    sigma_z=0.1,\n",
    "    x=mu0,\n",
    "    y=utils.zeros((1, 2))\n",
    ")\n",
    "(x_rec, y_rec) = sm.simulation(n_steps, dt)\n",
    "\n",
    "plt.figure(0)\n",
    "plt.subplot(2, 2, 1)\n",
    "plt.scatter(y_rec[:, 0], y_rec[:, 1], s=2)\n",
    "plt.show()"
   ]
  },
  {
   "cell_type": "markdown",
   "metadata": {},
   "source": [
    "## Bundle with Observer with no Matcher"
   ]
  },
  {
   "cell_type": "markdown",
   "metadata": {},
   "source": [
    "Matcher prepares dummy, prepares observer and bundle appropriately, and checks the state transition of bundle."
   ]
  },
  {
   "cell_type": "code",
   "execution_count": 6,
   "metadata": {},
   "outputs": [],
   "source": [
    "def test_bundle_and_observer(dt, n_steps, y_rec):\n",
    "    b0 = observer.Observer(\"b0\", y_rec)\n",
    "    \n",
    "    f = fn.LinearFn(A0)\n",
    "    b1 = BundleEKFContinuousTime(\"b1\", dt, f, Q, mu0, Sigma0)\n",
    "    dummy_input = {} # list of matchers (#matcher=0)\n",
    "    \n",
    "    for i in range(n_steps):\n",
    "        b0(dummy_input)\n",
    "        b1(dummy_input)\n",
    "        y = b0.get_state()\n",
    "        if i == 0:\n",
    "            y_rec2 = y\n",
    "        else:\n",
    "            y_rec2 = np.vstack((y_rec2, y))\n",
    "\n",
    "    timestamp = np.array(range(0, n_steps))\n",
    "    visualize_bundle_rec(b1, y_rec2)"
   ]
  },
  {
   "cell_type": "code",
   "execution_count": 7,
   "metadata": {},
   "outputs": [
    {
     "name": "stderr",
     "output_type": "stream",
     "text": [
      "/Users/miyoshi/tensorflow1.7/lib/python3.6/site-packages/matplotlib/cbook/deprecation.py:107: MatplotlibDeprecationWarning: Adding an axes using the same arguments as a previous axes currently reuses the earlier instance.  In a future version, a new instance will always be created and returned.  Meanwhile, this warning can be suppressed, and the future behavior ensured, by passing a unique label to each axes instance.\n",
      "  warnings.warn(message, mplDeprecation, stacklevel=1)\n"
     ]
    },
    {
     "data": {
      "image/png": "[encoded data removed]",
      "text/plain": [
       "<Figure size 432x288 with 3 Axes>"
      ]
     },
     "metadata": {},
     "output_type": "display_data"
    }
   ],
   "source": [
    "plt.figure(2)\n",
    "test_bundle_and_observer(dt, n_steps, y_rec)\n",
    "plt.pause(0.2)"
   ]
  },
  {
   "cell_type": "markdown",
   "metadata": {},
   "source": [
    "## link a Bundle, a Observer, and a Matcher"
   ]
  },
  {
   "cell_type": "markdown",
   "metadata": {},
   "source": [
    "Visualize the bundle trajectory in an extended kalman filter that includes all bundles, observers, and matchers, and also has links."
   ]
  },
  {
   "cell_type": "code",
   "execution_count": 10,
   "metadata": {},
   "outputs": [],
   "source": [
    "def test_MatcherEKF01(dt, n_steps, y_rec):\n",
    "    \"\"\"\n",
    "    Run a matchernet of the following structure\n",
    "    b0 --- m01 --- b1\n",
    "    \"\"\"\n",
    "\n",
    "    b1 = observer.Observer(\"b1\", y_rec, obs_noise_covariance=2*ey2)\n",
    "    \n",
    "    f = fn.LinearFn(A0)\n",
    "    mu1 = np.array([0, 2.0], dtype=np.float32)\n",
    "    Sigma1 = 2.0 * ey2\n",
    "    b0 = BundleEKFContinuousTime(\"b0\", dt, f, Q, mu1, Sigma1)\n",
    "    \n",
    "    g0 = fn.LinearFn(ey2)\n",
    "    g1 = fn.LinearFn(ey2)\n",
    "    m01 = MatcherEKF(\"m01\", b0, b1, g0, g1)\n",
    "\n",
    "    if _with_brica is False:\n",
    "        for i in range(n_steps):\n",
    "            print_flush(\"Step {}/{} with brica\".format(i, n_steps))\n",
    "            inputs_to_m01 = {\"b0\": b0.state, \"b1\": b1.state}\n",
    "            results = m01(inputs_to_m01)\n",
    "            inputs_to_b0 = {\"m01\": results[\"b0\"]}\n",
    "            s0 = b0(inputs_to_b0)\n",
    "            inputs_to_b1 = {\"m01\": results[\"b1\"]}\n",
    "            s1 = b1(inputs_to_b1)\n",
    "    else:\n",
    "        s = VirtualTimeScheduler()\n",
    "\n",
    "        bt = Timing(0, 1, 1)\n",
    "        bm = Timing(1, 1, 1)\n",
    "\n",
    "        s.add_component(b0.component, bt)\n",
    "        s.add_component(b1.component, bt)\n",
    "        s.add_component(m01.component, bm)\n",
    "\n",
    "        for i in range(n_steps):\n",
    "            print_flush(\"Step {}/{} with brica\".format(i+1, n_steps))\n",
    "            s.step()"
   ]
  },
  {
   "cell_type": "code",
   "execution_count": 11,
   "metadata": {},
   "outputs": [
    {
     "name": "stdout",
     "output_type": "stream",
     "text": [
      "Step 500/500 with brica"
     ]
    },
    {
     "data": {
      "text/plain": [
       "<Figure size 432x288 with 0 Axes>"
      ]
     },
     "metadata": {},
     "output_type": "display_data"
    }
   ],
   "source": [
    "_with_brica = True\n",
    "plt.figure(3)\n",
    "test_MatcherEKF01(dt, n_steps, y_rec)\n",
    "plt.pause(0.2)"
   ]
  },
  {
   "cell_type": "code",
   "execution_count": null,
   "metadata": {},
   "outputs": [],
   "source": []
  }
 ],
 "metadata": {
  "kernelspec": {
   "display_name": "Python 3",
   "language": "python",
   "name": "python3"
  },
  "language_info": {
   "codemirror_mode": {
    "name": "ipython",
    "version": 3
   },
   "file_extension": ".py",
   "mimetype": "text/x-python",
   "name": "python",
   "nbconvert_exporter": "python",
   "pygments_lexer": "ipython3",
   "version": "3.6.5"
  }
 },
 "nbformat": 4,
 "nbformat_minor": 2
}
